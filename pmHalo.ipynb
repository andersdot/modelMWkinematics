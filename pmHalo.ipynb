{
 "cells": [
  {
   "cell_type": "code",
   "execution_count": 1,
   "metadata": {
    "collapsed": false
   },
   "outputs": [],
   "source": [
    "import ebf\n",
    "import healpix_util as hu\n",
    "import numpy as np\n",
    "import matplotlib.pyplot as plt\n",
    "%matplotlib inline\n",
    "import astropy.coordinates as coord\n",
    "import astropy.units as u\n",
    "import matplotlib as mpl\n",
    "import healpy as hp\n",
    "import astropy.stats as st\n",
    "import astropy.visualization as av"
   ]
  },
  {
   "cell_type": "code",
   "execution_count": 2,
   "metadata": {
    "collapsed": false
   },
   "outputs": [
    {
     "ename": "RuntimeError",
     "evalue": "Cannot Read File:sdssHalo.ebf",
     "output_type": "error",
     "traceback": [
      "\u001b[0;31m---------------------------------------------------------------------------\u001b[0m",
      "\u001b[0;31mRuntimeError\u001b[0m                              Traceback (most recent call last)",
      "\u001b[0;32m<ipython-input-2-915401d1f94b>\u001b[0m in \u001b[0;36m<module>\u001b[0;34m()\u001b[0m\n\u001b[0;32m----> 1\u001b[0;31m \u001b[0mdata\u001b[0m \u001b[0;34m=\u001b[0m \u001b[0mebf\u001b[0m\u001b[0;34m.\u001b[0m\u001b[0mread\u001b[0m\u001b[0;34m(\u001b[0m\u001b[0;34m'sdssHalo.ebf'\u001b[0m\u001b[0;34m,\u001b[0m \u001b[0;34m'/'\u001b[0m\u001b[0;34m)\u001b[0m\u001b[0;34m\u001b[0m\u001b[0m\n\u001b[0m",
      "\u001b[0;32m//anaconda/lib/python2.7/site-packages/ebf.pyc\u001b[0m in \u001b[0;36mread\u001b[0;34m(filename, path, recon, ckon, begin, end)\u001b[0m\n\u001b[1;32m   2128\u001b[0m \u001b[0;34m\u001b[0m\u001b[0m\n\u001b[1;32m   2129\u001b[0m     \u001b[0;32mif\u001b[0m \u001b[0;34m(\u001b[0m\u001b[0mpath\u001b[0m\u001b[0;34m.\u001b[0m\u001b[0mendswith\u001b[0m\u001b[0;34m(\u001b[0m\u001b[0;34m'/'\u001b[0m\u001b[0;34m)\u001b[0m \u001b[0;34m==\u001b[0m \u001b[0;36m1\u001b[0m\u001b[0;34m)\u001b[0m\u001b[0;34m:\u001b[0m\u001b[0;34m\u001b[0m\u001b[0m\n\u001b[0;32m-> 2130\u001b[0;31m         \u001b[0mlocation\u001b[0m\u001b[0;34m=\u001b[0m\u001b[0m_EbfMap\u001b[0m\u001b[0;34m.\u001b[0m\u001b[0mget\u001b[0m\u001b[0;34m(\u001b[0m\u001b[0mfilename\u001b[0m\u001b[0;34m,\u001b[0m \u001b[0mpath\u001b[0m\u001b[0;34m.\u001b[0m\u001b[0mlower\u001b[0m\u001b[0;34m(\u001b[0m\u001b[0;34m)\u001b[0m\u001b[0;34m,\u001b[0m\u001b[0mckon\u001b[0m\u001b[0;34m)\u001b[0m\u001b[0;34m\u001b[0m\u001b[0m\n\u001b[0m\u001b[1;32m   2131\u001b[0m         \u001b[0mnode\u001b[0m\u001b[0;34m=\u001b[0m\u001b[0m_EbfUtils\u001b[0m\u001b[0;34m.\u001b[0m\u001b[0msearchPathTree\u001b[0m\u001b[0;34m(\u001b[0m\u001b[0m_EbfMap\u001b[0m\u001b[0;34m.\u001b[0m\u001b[0mltable\u001b[0m\u001b[0;34m[\u001b[0m\u001b[0mfilename\u001b[0m\u001b[0;34m]\u001b[0m\u001b[0;34m[\u001b[0m\u001b[0;34m'pathtree'\u001b[0m\u001b[0;34m]\u001b[0m\u001b[0;34m,\u001b[0m\u001b[0mpath\u001b[0m\u001b[0;34m.\u001b[0m\u001b[0mlower\u001b[0m\u001b[0;34m(\u001b[0m\u001b[0;34m)\u001b[0m\u001b[0;34m)\u001b[0m\u001b[0;34m\u001b[0m\u001b[0m\n\u001b[1;32m   2132\u001b[0m         \u001b[0;32mif\u001b[0m \u001b[0;34m(\u001b[0m\u001b[0mnode\u001b[0m\u001b[0;34m[\u001b[0m\u001b[0;34m'name'\u001b[0m\u001b[0;34m]\u001b[0m \u001b[0;34m==\u001b[0m \u001b[0mpath\u001b[0m\u001b[0;34m.\u001b[0m\u001b[0mlower\u001b[0m\u001b[0;34m(\u001b[0m\u001b[0;34m)\u001b[0m\u001b[0;34m)\u001b[0m\u001b[0;34m:\u001b[0m\u001b[0;34m\u001b[0m\u001b[0m\n",
      "\u001b[0;32m//anaconda/lib/python2.7/site-packages/ebf.pyc\u001b[0m in \u001b[0;36mget\u001b[0;34m(filename, dataname, option)\u001b[0m\n\u001b[1;32m    388\u001b[0m         \"\"\"\n\u001b[1;32m    389\u001b[0m         \u001b[0;32mif\u001b[0m \u001b[0m_EbfMap\u001b[0m\u001b[0;34m.\u001b[0m\u001b[0mltable\u001b[0m\u001b[0;34m.\u001b[0m\u001b[0mhas_key\u001b[0m\u001b[0;34m(\u001b[0m\u001b[0mfilename\u001b[0m\u001b[0;34m)\u001b[0m \u001b[0;34m==\u001b[0m \u001b[0;36m0\u001b[0m \u001b[0;34m:\u001b[0m\u001b[0;34m\u001b[0m\u001b[0m\n\u001b[0;32m--> 390\u001b[0;31m             \u001b[0m_EbfMap\u001b[0m\u001b[0;34m.\u001b[0m\u001b[0m__loadMap\u001b[0m\u001b[0;34m(\u001b[0m\u001b[0mfilename\u001b[0m\u001b[0;34m)\u001b[0m\u001b[0;34m\u001b[0m\u001b[0m\n\u001b[0m\u001b[1;32m    391\u001b[0m         \u001b[0;32melif\u001b[0m \u001b[0moption\u001b[0m \u001b[0;34m==\u001b[0m \u001b[0;36m1\u001b[0m\u001b[0;34m:\u001b[0m\u001b[0;34m\u001b[0m\u001b[0m\n\u001b[1;32m    392\u001b[0m             \u001b[0;32mif\u001b[0m \u001b[0m_EbfMap\u001b[0m\u001b[0;34m.\u001b[0m\u001b[0mltable\u001b[0m\u001b[0;34m[\u001b[0m\u001b[0mfilename\u001b[0m\u001b[0;34m]\u001b[0m\u001b[0;34m[\u001b[0m\u001b[0;34m'checksum'\u001b[0m\u001b[0;34m]\u001b[0m \u001b[0;34m!=\u001b[0m \u001b[0m_EbfMap\u001b[0m\u001b[0;34m.\u001b[0m\u001b[0mgetCheckSum\u001b[0m\u001b[0;34m(\u001b[0m\u001b[0mfilename\u001b[0m\u001b[0;34m)\u001b[0m\u001b[0;34m:\u001b[0m\u001b[0;34m\u001b[0m\u001b[0m\n",
      "\u001b[0;32m//anaconda/lib/python2.7/site-packages/ebf.pyc\u001b[0m in \u001b[0;36m__loadMap\u001b[0;34m(filename)\u001b[0m\n\u001b[1;32m    359\u001b[0m         \u001b[0;32mexcept\u001b[0m \u001b[0mRuntimeError\u001b[0m\u001b[0;34m:\u001b[0m\u001b[0;34m\u001b[0m\u001b[0m\n\u001b[1;32m    360\u001b[0m             \u001b[0;32mdel\u001b[0m \u001b[0m_EbfMap\u001b[0m\u001b[0;34m.\u001b[0m\u001b[0mltable\u001b[0m\u001b[0;34m[\u001b[0m\u001b[0mfilename\u001b[0m\u001b[0;34m]\u001b[0m\u001b[0;34m\u001b[0m\u001b[0m\n\u001b[0;32m--> 361\u001b[0;31m             \u001b[0;32mraise\u001b[0m \u001b[0mRuntimeError\u001b[0m\u001b[0;34m(\u001b[0m\u001b[0;34m'Cannot Read File:'\u001b[0m\u001b[0;34m+\u001b[0m\u001b[0mfilename\u001b[0m\u001b[0;34m)\u001b[0m\u001b[0;34m\u001b[0m\u001b[0m\n\u001b[0m\u001b[1;32m    362\u001b[0m \u001b[0;34m\u001b[0m\u001b[0m\n\u001b[1;32m    363\u001b[0m \u001b[0;34m\u001b[0m\u001b[0m\n",
      "\u001b[0;31mRuntimeError\u001b[0m: Cannot Read File:sdssHalo.ebf"
     ]
    }
   ],
   "source": [
    "data = ebf.read('sdssHalo.ebf', '/')"
   ]
  },
  {
   "cell_type": "code",
   "execution_count": null,
   "metadata": {
    "collapsed": false,
    "scrolled": true
   },
   "outputs": [],
   "source": [
    "data.keys()"
   ]
  },
  {
   "cell_type": "code",
   "execution_count": null,
   "metadata": {
    "collapsed": false
   },
   "outputs": [],
   "source": [
    "c = coord.Galactic(u=data['px']*u.kpc, v=data['py']*u.kpc, w=data['pz']*u.kpc,\n",
    "                 U=data['vx']*u.km/u.s, V=data['vy']*u.km/u.s, W=data['vz']*u.km/u.s,\n",
    "                 representation=coord.CartesianRepresentation, differential_cls=coord.CartesianDifferential)\n",
    "c.set_representation_cls(coord.SphericalRepresentation, s=coord.SphericalCosLatDifferential)\n",
    "\n",
    "pm = np.sqrt(c.pm_b**2. + c.pm_l_cosb**2.)\n"
   ]
  },
  {
   "cell_type": "code",
   "execution_count": null,
   "metadata": {
    "collapsed": false
   },
   "outputs": [],
   "source": [
    "appmag = data['sdss_g'] + 5.*np.log10(data['rad']*1000./10.)\n",
    "redpm = appmag + 5.*np.log10(pm.value)"
   ]
  },
  {
   "cell_type": "code",
   "execution_count": null,
   "metadata": {
    "collapsed": false
   },
   "outputs": [],
   "source": [
    "plt.hist2d(data['sdss_g'] - data['sdss_i'], redpm, bins=250, norm=mpl.colors.LogNorm())\n",
    "plt.title('Reduced Proper Motion')\n",
    "plt.gca().invert_yaxis()"
   ]
  },
  {
   "cell_type": "code",
   "execution_count": null,
   "metadata": {
    "collapsed": false
   },
   "outputs": [],
   "source": [
    "nside = 2\n",
    "hpix=hu.HealPix(\"ring\", nside)\n",
    "hpix"
   ]
  },
  {
   "cell_type": "code",
   "execution_count": null,
   "metadata": {
    "collapsed": false
   },
   "outputs": [],
   "source": [
    "bin_edges = np.array([0, 0.1, 1, 10, 100]) #np.logspace(-3, 3, 4)\n",
    "#hist, bin_edges, patches = av.hist(pm, bins='blocks')\n",
    "#print len(bin_edges)\n",
    "pmInd = np.digitize(pm, bin_edges)\n",
    "#plt.savefig('pmHistBayesBlocks.png')"
   ]
  },
  {
   "cell_type": "code",
   "execution_count": null,
   "metadata": {
    "collapsed": false
   },
   "outputs": [],
   "source": [
    "plt.hist(appmag, bins=100, histtype='step', log=True)\n",
    "plt.title('sdss g apparent magnitude')"
   ]
  },
  {
   "cell_type": "code",
   "execution_count": null,
   "metadata": {
    "collapsed": true
   },
   "outputs": [],
   "source": [
    "bin_edges = np.array([10, 15])\n",
    "appmagInd = np.digitize(appmag, bin_edges)"
   ]
  },
  {
   "cell_type": "code",
   "execution_count": null,
   "metadata": {
    "collapsed": false
   },
   "outputs": [],
   "source": [
    "pixnums = hpix.eq2pix(data['glon'], data['glat'])"
   ]
  },
  {
   "cell_type": "code",
   "execution_count": null,
   "metadata": {
    "collapsed": false
   },
   "outputs": [],
   "source": [
    "xbin = 0.5*(bin_edges[1:] + bin_edges[:-1])\n",
    "#plt.plot(xbin, hist, )"
   ]
  },
  {
   "cell_type": "code",
   "execution_count": null,
   "metadata": {
    "collapsed": false
   },
   "outputs": [],
   "source": [
    "plt.clf()\n",
    "plt.hist(pixnums, bins=12, log=True, histtype='step')\n",
    "plt.title('Number of stars in each pixel')"
   ]
  },
  {
   "cell_type": "code",
   "execution_count": null,
   "metadata": {
    "collapsed": false
   },
   "outputs": [],
   "source": [
    "color=iter(plt.cm.Blues(np.linspace(0,1,48)))\n",
    "\n",
    "for pix in range(np.max(pixnums)): \n",
    "    c=next(color)\n",
    "    for pmi in range(np.max(pmInd)):\n",
    "\n",
    "        plt.hist(np.log10(data['rad'][(pixnums == pix) & (pmInd == pmi)]), bins=100, log=True, histtype='step', color=c)\n",
    "#plt.legend()\n",
    "plt.xlim(-2, 2.5)\n",
    "plt.ylim(1,)"
   ]
  },
  {
   "cell_type": "code",
   "execution_count": null,
   "metadata": {
    "collapsed": false
   },
   "outputs": [],
   "source": [
    "color=iter(plt.cm.Blues(np.linspace(0,1,48)))\n",
    "\n",
    "for pix in range(np.max(pixnums)): \n",
    "        c=next(color)\n",
    "        plt.hist(np.log10(data['rad'][(pixnums == pix)]), bins=100, log=True, histtype='step', color=c)\n",
    "#plt.legend()\n",
    "plt.xlim(-2, 2.5)\n",
    "plt.ylim(1,)"
   ]
  },
  {
   "cell_type": "markdown",
   "metadata": {},
   "source": [
    "  0: Thin Disk  < 0.15    Gyr\n",
    "  1: Thin Disk     0.15-1 Gyr\n",
    "  2: Thin Disk     1-2      Gyr \n",
    "  3: Thin Disk     2-3      Gyr\n",
    "  4: Thin Disk     3-5      Gyr\n",
    "  5: Thin Disk     5-7      Gyr\n",
    "  6: Thin Disk     7-10    Gyr\n",
    "  7: Thick Disk \n",
    "  8: Stellar Halo\n",
    "  9: Bulge"
   ]
  },
  {
   "cell_type": "code",
   "execution_count": null,
   "metadata": {
    "collapsed": false
   },
   "outputs": [],
   "source": [
    "fig, axes = plt.subplots(4*nside, 3*nside, figsize=(8*nside, 8*nside))\n",
    "axes = axes.flatten()\n",
    "npix = hpix.npix # hp.nside2npix(nside)\n",
    "for i in range(npix):\n",
    "    mask = np.zeros(npix)\n",
    "    mask[i] = 1.0\n",
    "    map = hp.mollview(mask, return_projected_map=True)\n",
    "    axes[i].imshow(map, origin='lower')\n",
    "fig.savefig('pofd_sky.pdf')\n"
   ]
  },
  {
   "cell_type": "code",
   "execution_count": null,
   "metadata": {
    "collapsed": false,
    "scrolled": false
   },
   "outputs": [],
   "source": [
    "#loop over type of star\n",
    "fig, axes = plt.subplots(4*nside, 3*nside, figsize=(7*nside, 7*nside))\n",
    "axes = axes.flatten()\n",
    "    #loop over axes\n",
    "    for ax, pixel_index in zip(axes, range(np.max(pixnums)+1)):\n",
    "        index = (pixnums == pixel_index) & (data['sdss_g'] - data['sdss_i']>0.5) & (data['sdss_g'] - data['sdss_i']<0.75)\n",
    "        if np.sum(index):\n",
    "            ax.hist2d(np.log10(data['rad'][index]), np.log10(pm[index].value), bins=100, norm=mpl.colors.LogNorm(), cmap='Greys')\n",
    "for a in axes:\n",
    "    a.set_xlim(-2, 2.5)\n",
    "    a.set_ylim(2, -1)\n",
    "    a.set_xlabel('log d')\n",
    "    a.set_ylabel('log pm')\n",
    "fig.savefig('pofd_allStars.pdf')\n",
    "axes[0].legend(loc='upper center', bbox_to_anchor=(0.5, 1.05), ncol=2)\n",
    "axes[nside*3-1].legend(loc='upper center', bbox_to_anchor=(0.5, 1.05), ncol=2)\n",
    "plt.close(fig)"
   ]
  },
  {
   "cell_type": "code",
   "execution_count": null,
   "metadata": {
    "collapsed": false
   },
   "outputs": [],
   "source": []
  },
  {
   "cell_type": "code",
   "execution_count": null,
   "metadata": {
    "collapsed": false
   },
   "outputs": [],
   "source": [
    "cmaps = ['Reds', 'Greens', 'Blues']\n",
    "\n",
    "xbins = np.linspace(-2, 2.5, 51)\n",
    "ybins = np.linspace(-1, 2, 51)\n",
    "\n",
    "indices = [allStars, thinDisk, thickDisk, halo, bulge]\n",
    "indices = [thinDisk, thickDisk, halo]\n",
    "#loop over type of star\n",
    "for iPop, fname in zip(indices, filenames):\n",
    "    fig, axes = plt.subplots(4*nside, 3*nside, figsize=(7*nside, 7*nside))\n",
    "    axes = axes.flatten()\n",
    "    print np.sum(iPop)\n",
    "    #loop over axes\n",
    "    for ax, pixel_index in zip(axes, range(np.max(pixnums)+1)):\n",
    "        colorInd = (data['sdss_g'] - data['sdss_i']>0.5) & (data['sdss_g'] - data['sdss_i']<0.75)\n",
    "        pixInd = (pixnums == pixel_index)\n",
    "        image = np.zeros((len(xbins)-1, len(ybins)-1, 3))\n",
    "        for i, (cm, app_index) in enumerate(zip(cmaps, indices)):\n",
    "            magInd = app_index\n",
    "            index = magInd & pixInd & colorInd\n",
    "            if np.sum(index):\n",
    "                hist, xedge, yedge = np.histogram2d(np.log10(pm[index].value), np.log10(data['rad'][index]), \n",
    "                                                    bins=[xbins,ybins], normed=True)\n",
    "                image[:,:,i] = hist \n",
    "    for a in axes:\n",
    "        a.set_xlim(-2, 2.5)\n",
    "        a.set_ylim(2, -1)\n",
    "        a.set_xlabel('log d')\n",
    "        a.set_ylabel('log pm')\n",
    "    if fname == 'allStars':\n",
    "        fig.savefig('pofd_' + fname + '.pdf')\n",
    "        axes[0].legend(loc='upper center', bbox_to_anchor=(0.5, 1.05),\n",
    "          ncol=2)\n",
    "        axes[nside*3-1].legend(loc='upper center', bbox_to_anchor=(0.5, 1.05),\n",
    "          ncol=2)\n",
    "        fig.savefig('pofd_allStarsLegend.pdf')\n",
    "    else: fig.savefig('pofd_' + fname +'.pdf')\n",
    "    plt.close(fig)"
   ]
  },
  {
   "cell_type": "code",
   "execution_count": null,
   "metadata": {
    "collapsed": false
   },
   "outputs": [],
   "source": [
    "cmaps = ['Reds', 'Greens', 'Blues']\n",
    "#plot rgb plot with each color channel a population ie thin disk, thick disk, halo\n",
    "ybins = np.linspace(-2, 2.5, 51)\n",
    "xbins = np.linspace(-2, 2.5, 51)\n",
    "vmin = 0.01\n",
    "\n",
    "indices = [thinDisk, thickDisk, halo]\n",
    "\n",
    "fig, axes = plt.subplots(4*nside, 3*nside, figsize=(7*nside, 7*nside))\n",
    "axes = axes.flatten()\n",
    "\n",
    "figTD, axTD = plt.subplots(4*nside, 3*nside, figsize=(7*nside, 7*nside))\n",
    "axTD = axTD.flatten()\n",
    "figThD, axThD = plt.subplots(4*nside, 3*nside, figsize=(7*nside, 7*nside))\n",
    "axThD = axThD.flatten()\n",
    "figH, axH = plt.subplots(4*nside, 3*nside, figsize=(7*nside, 7*nside))\n",
    "axH = axH.flatten()\n",
    "\n",
    "popaxes = [axTD, axThD, axH]\n",
    "\n",
    "colorInd = (data['sdss_g'] - data['sdss_i']>0.5)  & (data['sdss_g'] - data['sdss_i']<0.75)\n",
    "\n",
    "#loop over axes\n",
    "for axI, (ax, pixel_index) in enumerate(zip(axes, range(np.max(pixnums)+1))):\n",
    "    pixInd = (pixnums == pixel_index)\n",
    "    image = np.zeros((len(xbins)-1, len(ybins)-1, 4))\n",
    "    lattice = np.ones((len(xbins)-1, len(ybins)-1))\n",
    "    for i, (app_index, cm) in enumerate(zip(indices, cmaps)):\n",
    "\n",
    "        magInd = app_index\n",
    "        index = magInd & pixInd & colorInd\n",
    "        if np.sum(index):\n",
    "            hist, xedge, yedge = np.histogram2d(np.log10(data['rad'][index]), np.log10(pm[index].value),  \n",
    "                                                    bins=[xbins,ybins])#, normed=True)\n",
    "            image[:,:,i] = hist \n",
    "            testImage = np.zeros((len(xbins)-1, len(ybins)-1, 4))\n",
    "            testLattice = np.zeros((len(xbins)-1, len(ybins)-1))\n",
    "            badPixel = hist < vmin\n",
    "            ax.pcolormesh(x, y, z, cmap=cm, norm=mpl.colors.LogNorm(vmin=vmin, vmax=1))\n",
    "            #plt.hist(hist, bins=100, log=True)\n",
    "            testLattice[badPixel] = vmin\n",
    "            testImage[:,:,i] = hist\n",
    "            testImage[:,:,3] = testLattice\n",
    "            popaxes[i][axI].imshow(testImage, origin='lower', extent=(-2, 2.5, -2, 2.5), norm=mpl.colors.LogNorm(vmin=vmin, vmax=1))\n",
    "    badPixel = np.sum(image[:,:,0:3], axis=2) < vmin\n",
    "    #print np.sum(badPixe\n",
    "    lattice[badPixel] = vmin\n",
    "    image[:,:,3] = lattice\n",
    "    #ax.imshow(image, origin='lower', extent=(-2, 2.5, -2, 2.5), norm=mpl.colors.LogNorm(vmin=vmin, vmax=1))\n",
    "\n",
    "for axs in [axes, axTD, axThD, axH]:\n",
    "    for a in axs:\n",
    "        a.set_ylim(2.5, -2)\n",
    "        a.set_xlim(-2, 2.5)\n",
    "        a.set_ylabel('log pm')\n",
    "        a.set_xlabel('log d')\n",
    "figTD.savefig('pofd_ipop_thickdisk.pdf')\n",
    "figThD.savefig('pofd_ipop_thindisk.pdf')\n",
    "figH.savefig('pofd_ipop_halo.pdf')\n",
    "fig.savefig('pofd_ipop.pdf')\n",
    "plt.close(fig)"
   ]
  },
  {
   "cell_type": "code",
   "execution_count": null,
   "metadata": {
    "collapsed": false
   },
   "outputs": [],
   "source": [
    "cmaps = ['Reds', 'Greens', 'Blues']\n",
    "vmin = 0.0001\n",
    "xbins = np.linspace(-2, 2.5, 21)\n",
    "ybins = np.linspace(-1, 2, 21)\n",
    "\n",
    "indices = [allStars, thinDisk, thickDisk, halo, bulge]\n",
    "indices = [thinDisk, thickDisk, halo]\n",
    "\n",
    "lowpm = np.log10(pm.value) < 0.5\n",
    "\n",
    "fig, axes = plt.subplots(4*nside, 3*nside, figsize=(7*nside, 7*nside))\n",
    "axes = axes.flatten()\n",
    "\n",
    "#loop over axes\n",
    "for ax, pixel_index in zip(axes, range(np.max(pixnums)+1)):\n",
    "    colorInd = (data['sdss_g'] - data['sdss_i']>0.5) & (data['sdss_g'] - data['sdss_i']<0.75)\n",
    "    pixInd = (pixnums == pixel_index)\n",
    "    image = np.zeros((len(xbins)-1, len(ybins)-1, 4))\n",
    "    lattice = np.ones((len(xbins)-1, len(ybins)-1))\n",
    "    #for cm, app_index in zip(cmaps, range(np.max(appmagInd) + 1)):\n",
    "    for i, app_index in enumerate(indices):\n",
    "        #magInd = (appmagInd == app_index) \n",
    "        magInd = app_index\n",
    "        index = magInd & pixInd & colorInd & lowpm\n",
    "        if np.sum(index):\n",
    "            hist, xedge, yedge = np.histogram2d(data['sdss_g'][index], np.log10(data['rad'][index]), \n",
    "                                                    bins=[xbins,ybins], normed=True)\n",
    "            image[:,:,i] = hist #np.log10(hist)\n",
    "            lattice[hist<vmin] = np.nan\n",
    "        image[:,:,3] = lattice\n",
    "        ax.imshow(image, origin='lower', extent=(-2, 2.5, -1, 2), norm=mpl.colors.LogNorm(vmin=vmin, vmax=1))\n",
    "\n",
    "for a in axes:\n",
    "    a.set_xlim(-2, 2.5)\n",
    "    a.set_ylim(2, -1)\n",
    "    a.set_xlabel('log d')\n",
    "    a.set_ylabel('log pm')\n",
    "if fname == 'allStars':\n",
    "    fig.savefig('pofd_' + fname + '.pdf')\n",
    "    axes[0].legend(loc='upper center', bbox_to_anchor=(0.5, 1.05),\n",
    "          ncol=2)\n",
    "    axes[nside*3-1].legend(loc='upper center', bbox_to_anchor=(0.5, 1.05),\n",
    "          ncol=2)\n",
    "    fig.savefig('pofd_allStarsLegend.pdf')\n",
    "else: fig.savefig('pofmagandd.pdf')\n",
    "plt.close(fig)"
   ]
  },
  {
   "cell_type": "code",
   "execution_count": null,
   "metadata": {
    "collapsed": false
   },
   "outputs": [],
   "source": [
    "map = hp.mollview(mask, return_projected_map=True)\n",
    "np.shape(map)"
   ]
  },
  {
   "cell_type": "code",
   "execution_count": null,
   "metadata": {
    "collapsed": false
   },
   "outputs": [],
   "source": [
    "m = np.arange(hp.nside2npix(nside))\n",
    "hp.mollview(m, nest=False, title=\"Mollview image Nest\")"
   ]
  },
  {
   "cell_type": "code",
   "execution_count": null,
   "metadata": {
    "collapsed": false
   },
   "outputs": [],
   "source": [
    "print m\n",
    "print hp.nside2npix(nside)"
   ]
  },
  {
   "cell_type": "code",
   "execution_count": null,
   "metadata": {
    "collapsed": true
   },
   "outputs": [],
   "source": []
  }
 ],
 "metadata": {
  "anaconda-cloud": {},
  "kernelspec": {
   "display_name": "Python [conda root]",
   "language": "python",
   "name": "conda-root-py"
  },
  "language_info": {
   "codemirror_mode": {
    "name": "ipython",
    "version": 2
   },
   "file_extension": ".py",
   "mimetype": "text/x-python",
   "name": "python",
   "nbconvert_exporter": "python",
   "pygments_lexer": "ipython2",
   "version": "2.7.14"
  }
 },
 "nbformat": 4,
 "nbformat_minor": 1
}
