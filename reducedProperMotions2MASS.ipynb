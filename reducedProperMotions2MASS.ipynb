{
 "cells": [
  {
   "cell_type": "code",
   "execution_count": null,
   "metadata": {
    "collapsed": false
   },
   "outputs": [],
   "source": [
    "from os import path\n",
    "import pickle\n",
    "\n",
    "import astropy.coordinates as coord\n",
    "from astropy.table import Table\n",
    "import astropy.units as u\n",
    "import numpy as np\n",
    "import matplotlib as mpl\n",
    "import matplotlib.pyplot as plt\n",
    "#plt.style.use('apw-notebook')\n",
    "%matplotlib inline\n",
    "import sqlutil\n",
    "from scipy.stats import binned_statistic_dd\n",
    "import testXD\n",
    "from dustmaps.sfd import SFDQuery\n",
    "from astropy.coordinates import SkyCoord\n",
    "import astropy.units as units"
   ]
  },
  {
   "cell_type": "code",
   "execution_count": null,
   "metadata": {
    "collapsed": false
   },
   "outputs": [],
   "source": [
    "def queryDatabase(query, columns, post_query, cache_file='db.pickle'):\n",
    "\n",
    "    #cache_file = \"reducedPM2.pickle\"\n",
    "\n",
    "    if not path.exists(cache_file):\n",
    "        res = sqlutil.get(query.format(','.join(columns), post_query),\n",
    "                          db='wsdb', host='cappc127.ast.cam.ac.uk', \n",
    "                          user=user, password=password, \n",
    "                          asDict=True)\n",
    "\n",
    "        with open(cache_file, \"wb\") as f:\n",
    "            pickle.dump(res, f)\n",
    "        \n",
    "    else:\n",
    "        with open(cache_file, \"rb\") as f:\n",
    "            res = pickle.load(f)\n",
    "    return res"
   ]
  },
  {
   "cell_type": "code",
   "execution_count": null,
   "metadata": {
    "collapsed": false
   },
   "outputs": [],
   "source": [
    "def dust(l, b):\n",
    "    c = SkyCoord(l, b, frame='galactic')\n",
    "    sfd = SFDQuery()\n",
    "    dust = sfd(c)\n",
    "    return dust"
   ]
  },
  {
   "cell_type": "code",
   "execution_count": null,
   "metadata": {
    "collapsed": true
   },
   "outputs": [],
   "source": [
    "def reducedPM(pmra, pmdec, mag):\n",
    "    pm = np.sqrt(pmra**2. + pmdec**2.)\n",
    "    return mag + 5.*np.log10(pm) + 5."
   ]
  },
  {
   "cell_type": "code",
   "execution_count": null,
   "metadata": {
    "collapsed": true
   },
   "outputs": [],
   "source": [
    "dustCoeff = {'B': 3.626,\n",
    "             'V': 2.742,\n",
    "             'g': 3.303,\n",
    "             'r': 2.285,\n",
    "             'i': 1.698,\n",
    "             'J': 0.709,\n",
    "             'H': 0.449,\n",
    "             'K': 0.302,\n",
    "             'G': 2.55}"
   ]
  },
  {
   "cell_type": "code",
   "execution_count": null,
   "metadata": {
    "collapsed": false,
    "scrolled": true
   },
   "outputs": [],
   "source": [
    "columns = '*'\n",
    "query = \"Select {0} FROM gaia_dr1.gaia_source {1}\"\n",
    "cuts = 'LIMIT 10'\n",
    "res = queryDatabase(query, columns, cuts, cache_file='gaiaListColumns')\n",
    "tbl = Table(res)\n",
    "tbl.keys()"
   ]
  },
  {
   "cell_type": "code",
   "execution_count": null,
   "metadata": {
    "collapsed": false
   },
   "outputs": [],
   "source": [
    "columns = '*'\n",
    "query = \"Select {0} FROM gaia_dr1_aux.gaia_source_sdssdr9_xm_new {1}\"\n",
    "cuts = \"LIMIT 10\"\n",
    "res = queryDatabase(query, columns, cuts, cache_file='sdssListColumns')\n",
    "tbl = Table(res)\n",
    "tbl.keys()"
   ]
  },
  {
   "cell_type": "code",
   "execution_count": null,
   "metadata": {
    "collapsed": false,
    "scrolled": true
   },
   "outputs": [],
   "source": [
    "columns = '*'\n",
    "query = \"Select {0} FROM gaia_dr1_aux.gaia_source_2mass_xm {1}\"\n",
    "cuts = \"LIMIT 10\"\n",
    "res = queryDatabase(query, columns, cuts, cache_file='tmassListColumns')\n",
    "tbl = Table(res)\n",
    "tbl.keys()"
   ]
  },
  {
   "cell_type": "code",
   "execution_count": null,
   "metadata": {
    "collapsed": false
   },
   "outputs": [],
   "source": [
    "sdsscolumns = [\n",
    "    'random_index', 'source_id', 'ra', 'dec', 'l', 'b', \n",
    "    'pmra_new', 'pmdec_new', 'gs_pmra', 'gs_pmdec', 'extinction_u', \n",
    "    'extinction_g', 'extinction_r', 'extinction_i', 'extinction_z',\n",
    "    'psfmag_u', 'psfmag_g', 'psfmag_r', 'psfmag_i', 'psfmag_z', 'phot_g_mean_mag']\n",
    "query = \"Select {0} FROM gaia_dr1_aux.gaia_source_sdssdr9_xm_new {1}\"\n",
    "cuts = \"\"\"WHERE MOD(random_index, 10) = 0 AND \n",
    "sqrt(power(2.5/log(10)*phot_g_mean_flux_error/phot_g_mean_flux,2)) <= 0.05 AND\n",
    "abs(b) > 30\n",
    "\"\"\"\n",
    "res = queryDatabase(query, sdsscolumns, cuts, cache_file='gaiasdssHalo.pkl')\n",
    "sdsstbl = Table(res)\n"
   ]
  },
  {
   "cell_type": "code",
   "execution_count": null,
   "metadata": {
    "collapsed": false
   },
   "outputs": [],
   "source": [
    "tmasscolumns = [\n",
    "        'random_index', 'source_id', 'ra', 'dec', 'l', 'b', \n",
    "    'gt_pmra', 'gt_pmdec', \n",
    "    'j_m', 'h_m', 'k_m', 'pmra', 'pmdec',\n",
    "    'phot_g_mean_mag']\n",
    "query = \"Select {0} FROM gaia_dr1_aux.gaia_source_2mass_xm {1}\"\n",
    "cuts = \"\"\"WHERE MOD(random_index, 10) = 0 AND \n",
    "sqrt(power(2.5/log(10)*phot_g_mean_flux_error/phot_g_mean_flux,2)) <= 0.05\n",
    "AND abs(b) > 30\n",
    "\"\"\"\n",
    "res = queryDatabase(query, tmasscolumns, cuts, cache_file='gaia2massHalo.pkl')\n",
    "tmasstbl = Table(res)"
   ]
  },
  {
   "cell_type": "code",
   "execution_count": null,
   "metadata": {
    "collapsed": true
   },
   "outputs": [],
   "source": []
  },
  {
   "cell_type": "code",
   "execution_count": null,
   "metadata": {
    "collapsed": true
   },
   "outputs": [],
   "source": [
    "sdssdust = dust(sdsstbl['l']*units.deg, sdsstbl['b']*units.deg)"
   ]
  },
  {
   "cell_type": "code",
   "execution_count": null,
   "metadata": {
    "collapsed": true
   },
   "outputs": [],
   "source": [
    "tmassdust = dust(tmasstbl['l']*units.deg, tmasstbl['b']*units.deg)"
   ]
  },
  {
   "cell_type": "code",
   "execution_count": null,
   "metadata": {
    "collapsed": false
   },
   "outputs": [],
   "source": [
    "sdsstbl['reduced_pm'] = reducedPM(sdsstbl['pmra_new'], sdsstbl['pmdec_new'], sdsstbl['phot_g_mean_mag'] - sdssdust*dustCoeff['G'])\n",
    "sdsscolor = sdsstbl['psfmag_g'] - sdssdust*dustCoeff['g'] - (sdsstbl['psfmag_i'] - sdssdust*dustCoeff['i'])"
   ]
  },
  {
   "cell_type": "code",
   "execution_count": null,
   "metadata": {
    "collapsed": true
   },
   "outputs": [],
   "source": [
    "tmasstbl['reduced_pm'] = reducedPM(tmasstbl['phot_g_mean_mag'] - tmassdust*dustCoeff['G']+ 5.*np.log10(tmasspm) + 5.\n",
    "tmasscolor = tmasstbl['j_m'] - tmassdust*dustCoeff['J']- (tmasstbl['k_m'] - tmassdust*dustCoeff['K'])"
   ]
  },
  {
   "cell_type": "code",
   "execution_count": null,
   "metadata": {
    "collapsed": false,
    "scrolled": false
   },
   "outputs": [],
   "source": [
    "fig, ax = plt.subplots(1, 2, figsize=(15,7.5))\n",
    "sdssgood = (np.abs(sdsscolor) < 10) & (sdsstbl['reduced_pm'] < 40) & (sdsstbl['reduced_pm'] > 0)\n",
    "tmassgood = (np.abs(tmasscolor) < 10) & (tmasstbl['reduced_pm'] < 40) & (tmasstbl['reduced_pm'] > 0)\n",
    "ax[0].hist2d(sdsscolor[sdssgood], sdsstbl['reduced_pm'][sdssgood], bins=500, cmap='Greys', norm=mpl.colors.LogNorm()) #, s=1, lw=0, alpha=0.5)\n",
    "ax[0].set_ylim(40, 15)\n",
    "ax[0].set_xlim(-1, 4)\n",
    "ax[0].set_xlabel('g-i')\n",
    "ax[0].set_ylabel('Reduced PM G')\n",
    "#ax[0].colorbar()\n",
    "ax[1].hist2d(tmasscolor[tmassgood], tmasstbl['reduced_pm'][tmassgood], bins=500, cmap='Greys', norm=mpl.colors.LogNorm())\n",
    "#ax[1].colorbar()\n",
    "ax[1].set_ylim(40, 15)\n",
    "ax[1].set_xlim(-1, 4)\n",
    "ax[1].set_xlabel('j-k')\n",
    "ax[1].set_ylabel('Reduced PM G')\n",
    "plt.savefig('reducedPM.pdf')"
   ]
  },
  {
   "cell_type": "code",
   "execution_count": null,
   "metadata": {
    "collapsed": true
   },
   "outputs": [],
   "source": [
    "dustCoeff = {'B': 0.0,\n",
    "             'V': 0.0,\n",
    "             'g': 0.0,\n",
    "             'r': 0.0,\n",
    "             'i': 0.0,\n",
    "             'J': 0.0,\n",
    "             'H': 0.0,\n",
    "             'K': 0.0,\n",
    "             'G': 0.0}"
   ]
  },
  {
   "cell_type": "code",
   "execution_count": null,
   "metadata": {
    "collapsed": false
   },
   "outputs": [],
   "source": [
    "sdsstbl['reduced_pm'] = sdsstbl['phot_g_mean_mag'] - sdssdust*dustCoeff['G'] + 5.*np.log10(sdsspm) + 5.\n",
    "sdsscolor = sdsstbl['psfmag_g'] - sdssdust*dustCoeff['g'] - (sdsstbl['psfmag_i'] - sdssdust*dustCoeff['i'])"
   ]
  },
  {
   "cell_type": "code",
   "execution_count": null,
   "metadata": {
    "collapsed": true
   },
   "outputs": [],
   "source": [
    "tmasstbl['reduced_pm'] = tmasstbl['phot_g_mean_mag'] - tmassdust*dustCoeff['G']+ 5.*np.log10(tmasspm) + 5.\n",
    "tmasscolor = tmasstbl['j_m'] - tmassdust*dustCoeff['J']- (tmasstbl['k_m'] - tmassdust*dustCoeff['K'])"
   ]
  },
  {
   "cell_type": "code",
   "execution_count": null,
   "metadata": {
    "collapsed": false,
    "scrolled": false
   },
   "outputs": [],
   "source": [
    "fig, ax = plt.subplots(1, 2, figsize=(15,7.5))\n",
    "sdssgood = (np.abs(sdsscolor) < 10) & (sdsstbl['reduced_pm'] < 40) & (sdsstbl['reduced_pm'] > 0)\n",
    "tmassgood = (np.abs(tmasscolor) < 10) & (tmasstbl['reduced_pm'] < 40) & (tmasstbl['reduced_pm'] > 0)\n",
    "ax[0].hist2d(sdsscolor[sdssgood], sdsstbl['reduced_pm'][sdssgood], bins=500, cmap='Greys', norm=mpl.colors.LogNorm()) #, s=1, lw=0, alpha=0.5)\n",
    "ax[0].set_ylim(40, 15)\n",
    "ax[0].set_xlim(-1, 4)\n",
    "ax[0].set_xlabel('g-i')\n",
    "ax[0].set_ylabel('Reduced PM G')\n",
    "#ax[0].colorbar()\n",
    "ax[1].hist2d(tmasscolor[tmassgood], tmasstbl['reduced_pm'][tmassgood], bins=500, cmap='Greys', norm=mpl.colors.LogNorm())\n",
    "#ax[1].colorbar()\n",
    "ax[1].set_ylim(40, 15)\n",
    "ax[1].set_xlim(-1, 2)\n",
    "ax[1].set_xlabel('j-k')\n",
    "ax[1].set_ylabel('Reduced PM G')\n",
    "plt.savefig('reducedPM_nodustHalo.pdf')"
   ]
  },
  {
   "cell_type": "code",
   "execution_count": null,
   "metadata": {
    "collapsed": true
   },
   "outputs": [],
   "source": []
  }
 ],
 "metadata": {
  "anaconda-cloud": {},
  "kernelspec": {
   "display_name": "Python 3",
   "language": "python",
   "name": "python3"
  },
  "language_info": {
   "codemirror_mode": {
    "name": "ipython",
    "version": 3
   },
   "file_extension": ".py",
   "mimetype": "text/x-python",
   "name": "python",
   "nbconvert_exporter": "python",
   "pygments_lexer": "ipython3",
   "version": "3.6.3"
  }
 },
 "nbformat": 4,
 "nbformat_minor": 2
}
