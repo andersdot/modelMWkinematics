{
 "cells": [
  {
   "cell_type": "code",
   "execution_count": null,
   "metadata": {
    "collapsed": true
   },
   "outputs": [],
   "source": [
    "from os import path\n",
    "import pickle\n",
    "\n",
    "import astropy.coordinates as coord\n",
    "from astropy.table import Table\n",
    "import astropy.units as u\n",
    "import numpy as np\n",
    "import matplotlib as mpl\n",
    "import matplotlib.pyplot as plt\n",
    "#plt.style.use('apw-notebook')\n",
    "%matplotlib inline\n",
    "import sqlutil\n",
    "from scipy.stats import binned_statistic_dd\n",
    "from dustmaps.sfd import SFDQuery\n",
    "from astropy.coordinates import SkyCoord\n",
    "import astropy.units as units"
   ]
  },
  {
   "cell_type": "code",
   "execution_count": null,
   "metadata": {
    "collapsed": true
   },
   "outputs": [],
   "source": [
    "query = \"\"\"\n",
    "WITH x AS (\n",
    "                SELECT  * \n",
    "                FROM vvv_201310.main AS vvv, gaia_dr1.gaia_source AS gaia\n",
    "                    WHERE q3c_join(vvv.ra, vvv.dec, gaia.ra, gaia.dec, 1./3600.) OFFSET 0\n",
    "                   )\n",
    "SELECT xra, xdec, ra, dec, z.z, z.zerr \n",
    "    FROM x, sdssdr7.photoz AS z\n",
    "        WHERE  x.objid=z.objid AND z.z<0.1 AND x.type=3 AND x.mode=1;\n",
    "\n",
    "\"\"\"\n",
    "\n",
    "vvv_201310.main"
   ]
  }
 ],
 "metadata": {
  "anaconda-cloud": {},
  "kernelspec": {
   "display_name": "Python [conda root]",
   "language": "python",
   "name": "conda-root-py"
  },
  "language_info": {
   "codemirror_mode": {
    "name": "ipython",
    "version": 2
   },
   "file_extension": ".py",
   "mimetype": "text/x-python",
   "name": "python",
   "nbconvert_exporter": "python",
   "pygments_lexer": "ipython2",
   "version": "2.7.14"
  }
 },
 "nbformat": 4,
 "nbformat_minor": 1
}
