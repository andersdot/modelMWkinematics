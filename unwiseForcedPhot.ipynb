{
 "cells": [
  {
   "cell_type": "code",
   "execution_count": 1,
   "metadata": {
    "collapsed": true
   },
   "outputs": [],
   "source": [
    "import sqlutil\n",
    "from astropy.table import Table\n",
    "from os import path\n",
    "import pickle"
   ]
  },
  {
   "cell_type": "code",
   "execution_count": 2,
   "metadata": {
    "collapsed": true
   },
   "outputs": [],
   "source": [
    "def queryDatabase(query, columns, post_query, cache_file='db.pickle'):\n",
    "\n",
    "    #cache_file = \"reducedPM2.pickle\"\n",
    "\n",
    "    if not path.exists(cache_file):\n",
    "        res = sqlutil.get(query.format(','.join(columns), post_query),\n",
    "                          db='wsdb', host='cappc127.ast.cam.ac.uk', \n",
    "                          user='gaia_sprint', password='NOT@Gaia_sprint', \n",
    "                          asDict=True)\n",
    "\n",
    "        with open(cache_file, \"wb\") as f:\n",
    "            pickle.dump(res, f)\n",
    "        \n",
    "    else:\n",
    "        with open(cache_file, \"rb\") as f:\n",
    "            res = pickle.load(f)\n",
    "    return res"
   ]
  },
  {
   "cell_type": "code",
   "execution_count": 7,
   "metadata": {
    "collapsed": false
   },
   "outputs": [
    {
     "ename": "InterfaceError",
     "evalue": "connection already closed",
     "output_type": "error",
     "traceback": [
      "\u001b[0;31m---------------------------------------------------------------------------\u001b[0m",
      "\u001b[0;31mInterfaceError\u001b[0m                            Traceback (most recent call last)",
      "\u001b[0;32m<ipython-input-7-4b3ac7da646c>\u001b[0m in \u001b[0;36m<module>\u001b[0;34m()\u001b[0m\n\u001b[1;32m     19\u001b[0m           t.j_m - t.k_m > 0.5;\"\"\"\n\u001b[1;32m     20\u001b[0m \u001b[0;34m\u001b[0m\u001b[0m\n\u001b[0;32m---> 21\u001b[0;31m \u001b[0mres\u001b[0m \u001b[0;34m=\u001b[0m \u001b[0mqueryDatabase\u001b[0m\u001b[0;34m(\u001b[0m\u001b[0mquery\u001b[0m\u001b[0;34m,\u001b[0m \u001b[0mcolumns\u001b[0m\u001b[0;34m,\u001b[0m \u001b[0mcuts\u001b[0m\u001b[0;34m,\u001b[0m \u001b[0mcache_file\u001b[0m\u001b[0;34m=\u001b[0m\u001b[0;34m'gaiaunwise.pkl'\u001b[0m\u001b[0;34m)\u001b[0m\u001b[0;34m\u001b[0m\u001b[0m\n\u001b[0m\u001b[1;32m     22\u001b[0m \u001b[0mtbl\u001b[0m \u001b[0;34m=\u001b[0m \u001b[0mTable\u001b[0m\u001b[0;34m(\u001b[0m\u001b[0mres\u001b[0m\u001b[0;34m)\u001b[0m\u001b[0;34m\u001b[0m\u001b[0m\n\u001b[1;32m     23\u001b[0m \u001b[0;34m\u001b[0m\u001b[0m\n",
      "\u001b[0;32m<ipython-input-2-7b5036c26e53>\u001b[0m in \u001b[0;36mqueryDatabase\u001b[0;34m(query, columns, post_query, cache_file)\u001b[0m\n\u001b[1;32m      7\u001b[0m                           \u001b[0mdb\u001b[0m\u001b[0;34m=\u001b[0m\u001b[0;34m'wsdb'\u001b[0m\u001b[0;34m,\u001b[0m \u001b[0mhost\u001b[0m\u001b[0;34m=\u001b[0m\u001b[0;34m'cappc127.ast.cam.ac.uk'\u001b[0m\u001b[0;34m,\u001b[0m\u001b[0;34m\u001b[0m\u001b[0m\n\u001b[1;32m      8\u001b[0m                           \u001b[0muser\u001b[0m\u001b[0;34m=\u001b[0m\u001b[0;34m'gaia_sprint'\u001b[0m\u001b[0;34m,\u001b[0m \u001b[0mpassword\u001b[0m\u001b[0;34m=\u001b[0m\u001b[0;34m'NOT@Gaia_sprint'\u001b[0m\u001b[0;34m,\u001b[0m\u001b[0;34m\u001b[0m\u001b[0m\n\u001b[0;32m----> 9\u001b[0;31m                           asDict=True)\n\u001b[0m\u001b[1;32m     10\u001b[0m \u001b[0;34m\u001b[0m\u001b[0m\n\u001b[1;32m     11\u001b[0m         \u001b[0;32mwith\u001b[0m \u001b[0mopen\u001b[0m\u001b[0;34m(\u001b[0m\u001b[0mcache_file\u001b[0m\u001b[0;34m,\u001b[0m \u001b[0;34m\"wb\"\u001b[0m\u001b[0;34m)\u001b[0m \u001b[0;32mas\u001b[0m \u001b[0mf\u001b[0m\u001b[0;34m:\u001b[0m\u001b[0;34m\u001b[0m\u001b[0m\n",
      "\u001b[0;32m/Users/landerson/src/wsdb-scratch/notebooks/sqlutil.pyc\u001b[0m in \u001b[0;36mget\u001b[0;34m(query, params, db, driver, user, password, host, preamb, conn, port, strLength, timeout, notNamed, asDict, intNullVal)\u001b[0m\n\u001b[1;32m    310\u001b[0m         \u001b[0;32mexcept\u001b[0m \u001b[0mBaseException\u001b[0m\u001b[0;34m:\u001b[0m\u001b[0;34m\u001b[0m\u001b[0m\n\u001b[1;32m    311\u001b[0m                 \u001b[0;32mtry\u001b[0m\u001b[0;34m:\u001b[0m\u001b[0;34m\u001b[0m\u001b[0m\n\u001b[0;32m--> 312\u001b[0;31m                         \u001b[0mconn\u001b[0m\u001b[0;34m.\u001b[0m\u001b[0mrollback\u001b[0m\u001b[0;34m(\u001b[0m\u001b[0;34m)\u001b[0m\u001b[0;34m\u001b[0m\u001b[0m\n\u001b[0m\u001b[1;32m    313\u001b[0m                 \u001b[0;32mexcept\u001b[0m\u001b[0;34m:\u001b[0m\u001b[0;34m\u001b[0m\u001b[0m\n\u001b[1;32m    314\u001b[0m                         \u001b[0;32mpass\u001b[0m\u001b[0;34m\u001b[0m\u001b[0m\n",
      "\u001b[0;31mInterfaceError\u001b[0m: connection already closed"
     ]
    }
   ],
   "source": [
    "columns = ['treated_as_pointsource', 'pointsource', 'w1_mag', 'w1_mag_err', \n",
    "          'w2_mag', 'w2_mag_err', 'w3_mag', 'w3_mag_err', ' w4_mag', 'w4_mag_err',\n",
    "          'has_wise_phot', \n",
    "           \n",
    "           'g.source_id', 'g.ra', 'g.dec', 'g.parallax', 'g.parallax_error',\n",
    "           'g.phot_g_mean_flux', 'g.phot_g_mean_flux_error', 'g.l', 'g.b',\n",
    "          \n",
    "           'psfmag_g', 'psfmag_r', 'psfmag_i', 'psfmagerr_g', 'psfmagerr_r', \n",
    "           'psfmagerr_i', 'pmra_new', 'pmdec_new',\n",
    "          \n",
    "           'j_m', 'k_m', 'h_m', 'j_cmsig', 'k_cmsig', 'h_cmsig']\n",
    "\n",
    "query = \"\"\"select {0} from unwise.sdss_forced as u, \n",
    "           gaia_dr1_aux.gaia_source_sdssdr9_xm_new as g, \n",
    "           gaia_dr1_aux.gaia_source_2mass_xm as t \n",
    "           {1}\"\"\"\n",
    "\n",
    "cuts = \"\"\"where u.objid = g.objid and \n",
    "          t.j_m - t.k_m > 0.5;\"\"\"\n",
    "\n",
    "res = queryDatabase(query, columns, cuts, cache_file='gaiaunwise.pkl')\n",
    "tbl = Table(res)\n",
    "\n"
   ]
  },
  {
   "cell_type": "code",
   "execution_count": null,
   "metadata": {
    "collapsed": false
   },
   "outputs": [],
   "source": [
    "tbl"
   ]
  },
  {
   "cell_type": "code",
   "execution_count": null,
   "metadata": {
    "collapsed": true
   },
   "outputs": [],
   "source": []
  }
 ],
 "metadata": {
  "anaconda-cloud": {},
  "kernelspec": {
   "display_name": "Python [conda root]",
   "language": "python",
   "name": "conda-root-py"
  },
  "language_info": {
   "codemirror_mode": {
    "name": "ipython",
    "version": 2
   },
   "file_extension": ".py",
   "mimetype": "text/x-python",
   "name": "python",
   "nbconvert_exporter": "python",
   "pygments_lexer": "ipython2",
   "version": "2.7.14"
  }
 },
 "nbformat": 4,
 "nbformat_minor": 1
}
