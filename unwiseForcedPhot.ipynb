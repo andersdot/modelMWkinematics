{
 "cells": [
  {
   "cell_type": "code",
   "execution_count": null,
   "metadata": {
    "collapsed": true
   },
   "outputs": [],
   "source": [
    "import sqlutil\n",
    "from astropy.table import Table\n",
    "from os import path\n",
    "import pickle"
   ]
  },
  {
   "cell_type": "code",
   "execution_count": null,
   "metadata": {
    "collapsed": true
   },
   "outputs": [],
   "source": [
    "def queryDatabase(query, columns, post_query, cache_file='db.pickle'):\n",
    "\n",
    "    #cache_file = \"reducedPM2.pickle\"\n",
    "\n",
    "    if not path.exists(cache_file):\n",
    "        res = sqlutil.get(query.format(','.join(columns), post_query),\n",
    "                          db='wsdb', host='cappc127.ast.cam.ac.uk', \n",
    "                          user=user, password=password, \n",
    "                          asDict=True)\n",
    "\n",
    "        with open(cache_file, \"wb\") as f:\n",
    "            pickle.dump(res, f)\n",
    "        \n",
    "    else:\n",
    "        with open(cache_file, \"rb\") as f:\n",
    "            res = pickle.load(f)\n",
    "    return res"
   ]
  },
  {
   "cell_type": "code",
   "execution_count": null,
   "metadata": {
    "collapsed": false
   },
   "outputs": [],
   "source": [
    "columns = ['treated_as_pointsource', 'pointsource', 'w1_mag', 'w1_mag_err', \n",
    "          'w2_mag', 'w2_mag_err', 'w3_mag', 'w3_mag_err', ' w4_mag', 'w4_mag_err',\n",
    "          'has_wise_phot', \n",
    "           \n",
    "           'g.source_id', 'g.ra', 'g.dec', 'g.parallax', 'g.parallax_error',\n",
    "           'g.phot_g_mean_flux', 'g.phot_g_mean_flux_error', 'g.l', 'g.b',\n",
    "          \n",
    "           'psfmag_g', 'psfmag_r', 'psfmag_i', 'psfmagerr_g', 'psfmagerr_r', \n",
    "           'psfmagerr_i', 'pmra_new', 'pmdec_new',\n",
    "          \n",
    "           'j_m', 'k_m', 'h_m', 'j_cmsig', 'k_cmsig', 'h_cmsig']\n",
    "\n",
    "query = \"\"\"select {0} from unwise.sdss_forced as u, \n",
    "           gaia_dr1_aux.gaia_source_sdssdr9_xm_new as g, \n",
    "           gaia_dr1_aux.gaia_source_2mass_xm as t \n",
    "           {1}\"\"\"\n",
    "\n",
    "cuts = \"\"\"where u.objid = g.objid and \n",
    "          t.j_m - t.k_m > 0.5;\"\"\"\n",
    "\n",
    "res = queryDatabase(query, columns, cuts, cache_file='gaiaunwise.pkl')\n",
    "tbl = Table(res)\n",
    "\n"
   ]
  },
  {
   "cell_type": "code",
   "execution_count": null,
   "metadata": {
    "collapsed": false
   },
   "outputs": [],
   "source": [
    "tbl"
   ]
  },
  {
   "cell_type": "code",
   "execution_count": null,
   "metadata": {
    "collapsed": true
   },
   "outputs": [],
   "source": []
  }
 ],
 "metadata": {
  "anaconda-cloud": {},
  "kernelspec": {
   "display_name": "Python 3",
   "language": "python",
   "name": "python3"
  },
  "language_info": {
   "codemirror_mode": {
    "name": "ipython",
    "version": 3
   },
   "file_extension": ".py",
   "mimetype": "text/x-python",
   "name": "python",
   "nbconvert_exporter": "python",
   "pygments_lexer": "ipython3",
   "version": "3.6.3"
  }
 },
 "nbformat": 4,
 "nbformat_minor": 2
}
